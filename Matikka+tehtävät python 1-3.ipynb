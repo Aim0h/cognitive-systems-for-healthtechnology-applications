{
 "cells": [
  {
   "cell_type": "code",
   "execution_count": 25,
   "metadata": {
    "collapsed": true
   },
   "outputs": [],
   "source": [
    "import numpy as np\n",
    "import matplotlib.pyplot as plt\n",
    "import math"
   ]
  },
  {
   "cell_type": "code",
   "execution_count": 2,
   "metadata": {},
   "outputs": [
    {
     "data": {
      "text/plain": [
       "array([[15, 30],\n",
       "       [ 6, 12]])"
      ]
     },
     "execution_count": 2,
     "metadata": {},
     "output_type": "execute_result"
    }
   ],
   "source": [
    "# python t1, 1 A\n",
    "A = np.array([[3, 6]])\n",
    "B = np.array([[5], [2]])\n",
    "A*B\n"
   ]
  },
  {
   "cell_type": "code",
   "execution_count": 3,
   "metadata": {},
   "outputs": [
    {
     "data": {
      "text/plain": [
       "array([[15, 30],\n",
       "       [ 6, 12]])"
      ]
     },
     "execution_count": 3,
     "metadata": {},
     "output_type": "execute_result"
    }
   ],
   "source": [
    "#t1 B\n",
    "A = np.array([[5], [2]])\n",
    "B = np.array([[3, 6]])\n",
    "A*B"
   ]
  },
  {
   "cell_type": "code",
   "execution_count": 4,
   "metadata": {},
   "outputs": [
    {
     "ename": "ValueError",
     "evalue": "shapes (2,1) and (2,1) not aligned: 1 (dim 1) != 2 (dim 0)",
     "output_type": "error",
     "traceback": [
      "\u001b[1;31m---------------------------------------------------------------------------\u001b[0m",
      "\u001b[1;31mValueError\u001b[0m                                Traceback (most recent call last)",
      "\u001b[1;32m<ipython-input-4-aabacc4c2ba4>\u001b[0m in \u001b[0;36m<module>\u001b[1;34m()\u001b[0m\n\u001b[0;32m      2\u001b[0m \u001b[0mA\u001b[0m \u001b[1;33m=\u001b[0m \u001b[0mnp\u001b[0m\u001b[1;33m.\u001b[0m\u001b[0marray\u001b[0m\u001b[1;33m(\u001b[0m\u001b[1;33m[\u001b[0m\u001b[1;33m[\u001b[0m\u001b[1;36m5\u001b[0m\u001b[1;33m]\u001b[0m\u001b[1;33m,\u001b[0m \u001b[1;33m[\u001b[0m\u001b[1;36m2\u001b[0m\u001b[1;33m]\u001b[0m\u001b[1;33m]\u001b[0m\u001b[1;33m)\u001b[0m\u001b[1;33m\u001b[0m\u001b[0m\n\u001b[0;32m      3\u001b[0m \u001b[0mB\u001b[0m \u001b[1;33m=\u001b[0m \u001b[0mnp\u001b[0m\u001b[1;33m.\u001b[0m\u001b[0marray\u001b[0m\u001b[1;33m(\u001b[0m\u001b[1;33m[\u001b[0m\u001b[1;33m[\u001b[0m\u001b[1;36m3\u001b[0m\u001b[1;33m]\u001b[0m\u001b[1;33m,\u001b[0m \u001b[1;33m[\u001b[0m\u001b[1;36m6\u001b[0m\u001b[1;33m]\u001b[0m\u001b[1;33m]\u001b[0m\u001b[1;33m)\u001b[0m\u001b[1;33m\u001b[0m\u001b[0m\n\u001b[1;32m----> 4\u001b[1;33m \u001b[0mnp\u001b[0m\u001b[1;33m.\u001b[0m\u001b[0mdot\u001b[0m\u001b[1;33m(\u001b[0m\u001b[0mA\u001b[0m\u001b[1;33m,\u001b[0m\u001b[0mB\u001b[0m\u001b[1;33m)\u001b[0m\u001b[1;33m\u001b[0m\u001b[0m\n\u001b[0m",
      "\u001b[1;31mValueError\u001b[0m: shapes (2,1) and (2,1) not aligned: 1 (dim 1) != 2 (dim 0)"
     ]
    }
   ],
   "source": [
    "#t1 C\n",
    "A = np.array([[5], [2]])\n",
    "B = np.array([[3], [6]])\n",
    "np.dot(A,B)"
   ]
  },
  {
   "cell_type": "code",
   "execution_count": 5,
   "metadata": {},
   "outputs": [
    {
     "data": {
      "text/plain": [
       "array([[16],\n",
       "       [42]])"
      ]
     },
     "execution_count": 5,
     "metadata": {},
     "output_type": "execute_result"
    }
   ],
   "source": [
    "#t1 D\n",
    "A = np.array([[1, 2], [3, 5]])\n",
    "B = np.array([[4], [6]])\n",
    "np.dot(A, B)"
   ]
  },
  {
   "cell_type": "code",
   "execution_count": 6,
   "metadata": {},
   "outputs": [
    {
     "data": {
      "text/plain": [
       "array([[22, 38]])"
      ]
     },
     "execution_count": 6,
     "metadata": {},
     "output_type": "execute_result"
    }
   ],
   "source": [
    "#t1 E\n",
    "A = np.array([[4, 6]])\n",
    "B = np.array([[1, 2], [3, 5]])\n",
    "np.dot(A, B)"
   ]
  },
  {
   "cell_type": "code",
   "execution_count": 7,
   "metadata": {},
   "outputs": [
    {
     "data": {
      "text/plain": [
       "array([[316]])"
      ]
     },
     "execution_count": 7,
     "metadata": {},
     "output_type": "execute_result"
    }
   ],
   "source": [
    "#t1 F\n",
    "A = np.array([[4], [6]])\n",
    "At = A.T\n",
    "B = np.array([[1, 2], [3, 5]])\n",
    "C = np.array([[4], [6]])\n",
    "np.dot(np.dot(At,B), C)"
   ]
  },
  {
   "cell_type": "code",
   "execution_count": 8,
   "metadata": {},
   "outputs": [
    {
     "data": {
      "text/plain": [
       "array([[1, 4],\n",
       "       [0, 7],\n",
       "       [9, 0]])"
      ]
     },
     "execution_count": 8,
     "metadata": {},
     "output_type": "execute_result"
    }
   ],
   "source": [
    "#2A\n",
    "A = np.array([[1, 0], [0, 2], [3, 0]])\n",
    "\n",
    "B = np.array([[0, 4], [0, 5], [6, 0]])\n",
    "\n",
    "A+B"
   ]
  },
  {
   "cell_type": "code",
   "execution_count": 9,
   "metadata": {},
   "outputs": [
    {
     "data": {
      "text/plain": [
       "array([[ 0,  0],\n",
       "       [ 0, 10],\n",
       "       [18,  0]])"
      ]
     },
     "execution_count": 9,
     "metadata": {},
     "output_type": "execute_result"
    }
   ],
   "source": [
    "#2B\n",
    "A = np.array([[1, 0], [0, 2], [3, 0]])\n",
    "\n",
    "B = np.array([[0, 4], [0, 5], [6, 0]])\n",
    "A*B"
   ]
  },
  {
   "cell_type": "code",
   "execution_count": 10,
   "metadata": {},
   "outputs": [
    {
     "data": {
      "text/plain": [
       "array([[18,  4],\n",
       "       [ 0, 10]])"
      ]
     },
     "execution_count": 10,
     "metadata": {},
     "output_type": "execute_result"
    }
   ],
   "source": [
    "#2C\n",
    "A = np.array([[1, 0], [0, 2], [3, 0]])\n",
    "At = A.T\n",
    "B = np.array([[0, 4], [0, 5], [6, 0]])\n",
    "np.dot(At, B)"
   ]
  },
  {
   "cell_type": "code",
   "execution_count": 11,
   "metadata": {},
   "outputs": [
    {
     "data": {
      "text/plain": [
       "array([[ 0,  0,  6],\n",
       "       [ 8, 10,  0],\n",
       "       [ 0,  0, 18]])"
      ]
     },
     "execution_count": 11,
     "metadata": {},
     "output_type": "execute_result"
    }
   ],
   "source": [
    "#2D\n",
    "A = np.array([[1, 0], [0, 2], [3, 0]])\n",
    "B = np.array([[0, 4], [0, 5], [6, 0]])\n",
    "Bt = B.T\n",
    "np.dot(A, Bt)"
   ]
  },
  {
   "cell_type": "code",
   "execution_count": 12,
   "metadata": {},
   "outputs": [
    {
     "data": {
      "text/plain": [
       "array([[10,  0],\n",
       "       [ 0, 20],\n",
       "       [30,  0]])"
      ]
     },
     "execution_count": 12,
     "metadata": {},
     "output_type": "execute_result"
    }
   ],
   "source": [
    "#2E\n",
    "A = np.array([[1, 0], [0, 2], [3, 0]])\n",
    "\n",
    "10*A"
   ]
  },
  {
   "cell_type": "code",
   "execution_count": 13,
   "metadata": {},
   "outputs": [
    {
     "data": {
      "text/plain": [
       "array([[11, 10],\n",
       "       [10, 12],\n",
       "       [13, 10]])"
      ]
     },
     "execution_count": 13,
     "metadata": {},
     "output_type": "execute_result"
    }
   ],
   "source": [
    "#2F\n",
    "A = np.array([[1, 0], [0, 2], [3, 0]])\n",
    "\n",
    "10+A"
   ]
  },
  {
   "cell_type": "code",
   "execution_count": 15,
   "metadata": {},
   "outputs": [
    {
     "data": {
      "image/png": "[encoded data removed]",
      "text/plain": [
       "<matplotlib.figure.Figure at 0x19c6338358>"
      ]
     },
     "metadata": {},
     "output_type": "display_data"
    }
   ],
   "source": [
    "#3\n",
    "x = np.arange(1, 11)\n",
    "x1 = np.power(x, 3)\n",
    "x2 = np.absolute(x)\n",
    "x2a = x+0.00000001\n",
    "x3 = np.log(x2a)\n",
    "x4 = np.sqrt((100+x))\n",
    "x5 = (0.01*x*np.power(2.71828, x))\n",
    "y = (x1+x2+x3)/(x4+x5)\n",
    "\n",
    "plt.plot(x,y)\n",
    "plt.show()"
   ]
  },
  {
   "cell_type": "code",
   "execution_count": 14,
   "metadata": {},
   "outputs": [
    {
     "data": {
      "text/plain": [
       "array([[ 2.],\n",
       "       [ 3.],\n",
       "       [ 1.]])"
      ]
     },
     "execution_count": 14,
     "metadata": {},
     "output_type": "execute_result"
    }
   ],
   "source": [
    "# 4\n",
    "A = np.array([[1, 2, 4], [-3, 1, 5], [2, -4, 1]])\n",
    "B = np.array([[12], [2], [-7]])\n",
    "x = np.dot(np.linalg.inv(A), B) # X = A^-1 B\n",
    "x "
   ]
  },
  {
   "cell_type": "code",
   "execution_count": 26,
   "metadata": {},
   "outputs": [
    {
     "data": {
      "text/plain": [
       "array([[ 2,  5, -1,  3,  6],\n",
       "       [ 1,  0,  0, -2,  0],\n",
       "       [ 4,  1, -2,  0,  7],\n",
       "       [ 0,  3,  5,  1, -1]])"
      ]
     },
     "execution_count": 26,
     "metadata": {},
     "output_type": "execute_result"
    }
   ],
   "source": [
    "# 5\n",
    "A = np.array([[2, 5, -1, 3, 6], [1, 0, 0, -2, 0], [4, 1, -2, 0, 7], [0, 3, 5, 1, -1]])\n",
    "A"
   ]
  },
  {
   "cell_type": "code",
   "execution_count": 27,
   "metadata": {},
   "outputs": [
    {
     "ename": "AttributeError",
     "evalue": "'numpy.ndarray' object has no attribute 'compres'",
     "output_type": "error",
     "traceback": [
      "\u001b[1;31m---------------------------------------------------------------------------\u001b[0m",
      "\u001b[1;31mAttributeError\u001b[0m                            Traceback (most recent call last)",
      "\u001b[1;32m<ipython-input-27-7f7e69c5868e>\u001b[0m in \u001b[0;36m<module>\u001b[1;34m()\u001b[0m\n\u001b[1;32m----> 1\u001b[1;33m \u001b[0mA\u001b[0m\u001b[1;33m.\u001b[0m\u001b[0mcompres\u001b[0m\u001b[1;33m\u001b[0m\u001b[0m\n\u001b[0m",
      "\u001b[1;31mAttributeError\u001b[0m: 'numpy.ndarray' object has no attribute 'compres'"
     ]
    }
   ],
   "source": [
    "A.compres"
   ]
  },
  {
   "cell_type": "code",
   "execution_count": 22,
   "metadata": {},
   "outputs": [
    {
     "data": {
      "text/plain": [
       "array([[0, 4],\n",
       "       [0, 5],\n",
       "       [6, 0]])"
      ]
     },
     "execution_count": 22,
     "metadata": {},
     "output_type": "execute_result"
    }
   ],
   "source": [
    "# 6\n",
    "A = np.array([[1, 0], [0, 2], [3, 0]])\n",
    "B = np.array([[0, 4], [0, 5], [6, 0]])\n",
    "B"
   ]
  },
  {
   "cell_type": "code",
   "execution_count": 23,
   "metadata": {},
   "outputs": [
    {
     "data": {
      "text/plain": [
       "array([[1, 0, 0, 4],\n",
       "       [0, 2, 0, 5],\n",
       "       [3, 0, 6, 0]])"
      ]
     },
     "execution_count": 23,
     "metadata": {},
     "output_type": "execute_result"
    }
   ],
   "source": [
    "C= np.concatenate((A, B), axis=1)\n",
    "C"
   ]
  },
  {
   "cell_type": "code",
   "execution_count": 24,
   "metadata": {},
   "outputs": [
    {
     "data": {
      "text/plain": [
       "array([[1, 0],\n",
       "       [0, 2],\n",
       "       [3, 0],\n",
       "       [0, 4],\n",
       "       [0, 5],\n",
       "       [6, 0]])"
      ]
     },
     "execution_count": 24,
     "metadata": {},
     "output_type": "execute_result"
    }
   ],
   "source": [
    "D = np.concatenate((A, B), axis=0)\n",
    "D"
   ]
  },
  {
   "cell_type": "code",
   "execution_count": 28,
   "metadata": {},
   "outputs": [
    {
     "data": {
      "text/plain": [
       "array([[ 1.],\n",
       "       [ 1.],\n",
       "       [ 1.],\n",
       "       [ 1.],\n",
       "       [ 1.]])"
      ]
     },
     "execution_count": 28,
     "metadata": {},
     "output_type": "execute_result"
    }
   ],
   "source": [
    "# python 2, t1\n",
    "A = np.ones((1,1))\n",
    "A1 = np.concatenate((A, A**2, A**3, A**4, A**5))\n",
    "A1"
   ]
  },
  {
   "cell_type": "code",
   "execution_count": 29,
   "metadata": {},
   "outputs": [
    {
     "data": {
      "text/plain": [
       "array([[ 1.],\n",
       "       [ 2.],\n",
       "       [ 3.],\n",
       "       [ 4.],\n",
       "       [ 5.]])"
      ]
     },
     "execution_count": 29,
     "metadata": {},
     "output_type": "execute_result"
    }
   ],
   "source": [
    "B1 = A\n",
    "B2 = A*2\n",
    "B3 = A*3\n",
    "B4 = A*4\n",
    "B5 = A*5\n",
    "B = np.concatenate((B1, B2, B3, B4, B5))\n",
    "B"
   ]
  },
  {
   "cell_type": "code",
   "execution_count": 35,
   "metadata": {},
   "outputs": [
    {
     "name": "stdout",
     "output_type": "stream",
     "text": [
      "[[  1.]\n",
      " [  4.]\n",
      " [  9.]\n",
      " [ 16.]\n",
      " [ 25.]] [[   1.]\n",
      " [   8.]\n",
      " [  27.]\n",
      " [  64.]\n",
      " [ 125.]] [[   1.]\n",
      " [  16.]\n",
      " [  81.]\n",
      " [ 256.]\n",
      " [ 625.]]\n"
     ]
    }
   ],
   "source": [
    "C = B**2\n",
    "D = B**3\n",
    "E = B**4\n",
    "\n",
    "\n",
    "print(C, D, E)\n"
   ]
  },
  {
   "cell_type": "code",
   "execution_count": 36,
   "metadata": {},
   "outputs": [
    {
     "data": {
      "text/plain": [
       "array([[   1.,    1.,    1.,    1.,    1.],\n",
       "       [   1.,    2.,    4.,    8.,   16.],\n",
       "       [   1.,    3.,    9.,   27.,   81.],\n",
       "       [   1.,    4.,   16.,   64.,  256.],\n",
       "       [   1.,    5.,   25.,  125.,  625.]])"
      ]
     },
     "execution_count": 36,
     "metadata": {},
     "output_type": "execute_result"
    }
   ],
   "source": [
    "F = np.concatenate((A1, B, C, D, E), axis = 1)\n",
    "F"
   ]
  },
  {
   "cell_type": "code",
   "execution_count": 39,
   "metadata": {},
   "outputs": [
    {
     "name": "stdout",
     "output_type": "stream",
     "text": [
      "[[ 1]\n",
      " [ 2]\n",
      " [ 3]\n",
      " [ 4]\n",
      " [ 5]\n",
      " [ 6]\n",
      " [ 7]\n",
      " [ 8]\n",
      " [ 9]\n",
      " [10]] [[14]\n",
      " [12]\n",
      " [34]\n",
      " [24]\n",
      " [43]\n",
      " [38]\n",
      " [41]\n",
      " [57]\n",
      " [55]\n",
      " [50]]\n"
     ]
    }
   ],
   "source": [
    "# t2\n",
    "x = np.array([[1], [2], [3], [4], [5], [6], [7], [8], [9], [10]])\n",
    "\n",
    "y = np.array([[14], [12], [34], [24], [43], [38], [41], [57], [55], [50]])\n",
    "print (x, y)"
   ]
  },
  {
   "cell_type": "code",
   "execution_count": 40,
   "metadata": {},
   "outputs": [
    {
     "data": {
      "text/plain": [
       "array([[1],\n",
       "       [1],\n",
       "       [1],\n",
       "       [1],\n",
       "       [1],\n",
       "       [1],\n",
       "       [1],\n",
       "       [1],\n",
       "       [1],\n",
       "       [1]])"
      ]
     },
     "execution_count": 40,
     "metadata": {},
     "output_type": "execute_result"
    }
   ],
   "source": [
    "a = np.array([[1], [1], [1], [1], [1], [1], [1], [1], [1], [1]])\n",
    "a"
   ]
  },
  {
   "cell_type": "code",
   "execution_count": 41,
   "metadata": {},
   "outputs": [
    {
     "data": {
      "text/plain": [
       "array([[ 1,  1],\n",
       "       [ 1,  2],\n",
       "       [ 1,  3],\n",
       "       [ 1,  4],\n",
       "       [ 1,  5],\n",
       "       [ 1,  6],\n",
       "       [ 1,  7],\n",
       "       [ 1,  8],\n",
       "       [ 1,  9],\n",
       "       [ 1, 10]])"
      ]
     },
     "execution_count": 41,
     "metadata": {},
     "output_type": "execute_result"
    }
   ],
   "source": [
    "X = np.concatenate((a,x), axis=1)\n",
    "X"
   ]
  },
  {
   "cell_type": "code",
   "execution_count": 42,
   "metadata": {},
   "outputs": [
    {
     "data": {
      "text/plain": [
       "array([[ 1,  1,  1,  1,  1,  1,  1,  1,  1,  1],\n",
       "       [ 1,  2,  3,  4,  5,  6,  7,  8,  9, 10]])"
      ]
     },
     "execution_count": 42,
     "metadata": {},
     "output_type": "execute_result"
    }
   ],
   "source": [
    "XT = X.T\n",
    "XT"
   ]
  },
  {
   "cell_type": "code",
   "execution_count": 43,
   "metadata": {},
   "outputs": [
    {
     "data": {
      "text/plain": [
       "array([[ 10.6       ],\n",
       "       [  4.76363636]])"
      ]
     },
     "execution_count": 43,
     "metadata": {},
     "output_type": "execute_result"
    }
   ],
   "source": [
    "XTX = np.dot(XT, X)\n",
    "XTX1 = np.linalg.inv(XTX)\n",
    "M1 = np.dot(XTX1, XT)\n",
    "M = np.dot(M1, y)\n",
    "M"
   ]
  },
  {
   "cell_type": "code",
   "execution_count": 44,
   "metadata": {},
   "outputs": [
    {
     "name": "stdout",
     "output_type": "stream",
     "text": [
      "[[  1.           1.        ]\n",
      " [  1.           1.00900901]\n",
      " [  1.           1.01801802]\n",
      " ..., \n",
      " [  1.           9.98198198]\n",
      " [  1.           9.99099099]\n",
      " [  1.          10.        ]]\n"
     ]
    },
    {
     "data": {
      "image/png": "[encoded data removed]",
      "text/plain": [
       "<matplotlib.figure.Figure at 0x19c6338390>"
      ]
     },
     "metadata": {},
     "output_type": "display_data"
    }
   ],
   "source": [
    "xx = np.linspace(1,10,1000)\n",
    "XX = np.concatenate((np.ones((1000, 1)), xx.reshape(1000, 1)), axis=1)\n",
    "print(XX)\n",
    "yy = XX.dot(M)\n",
    "plt.plot(x, y, 'o')\n",
    "plt.plot(xx, yy)\n",
    "plt.show()"
   ]
  },
  {
   "cell_type": "code",
   "execution_count": 46,
   "metadata": {},
   "outputs": [
    {
     "data": {
      "text/plain": [
       "(array([[1],\n",
       "        [1],\n",
       "        [1],\n",
       "        [1],\n",
       "        [1],\n",
       "        [1],\n",
       "        [1],\n",
       "        [1],\n",
       "        [1],\n",
       "        [1]]), array([[ 1],\n",
       "        [ 2],\n",
       "        [ 3],\n",
       "        [ 4],\n",
       "        [ 5],\n",
       "        [ 6],\n",
       "        [ 7],\n",
       "        [ 8],\n",
       "        [ 9],\n",
       "        [10]]))"
      ]
     },
     "execution_count": 46,
     "metadata": {},
     "output_type": "execute_result"
    }
   ],
   "source": [
    "# t3\n",
    "a = np.array([[1], [1], [1], [1], [1], [1], [1], [1], [1], [1]])\n",
    "x = np.array([[1], [2], [3], [4], [5], [6], [7], [8], [9], [10]])\n",
    "a, x"
   ]
  },
  {
   "cell_type": "code",
   "execution_count": 47,
   "metadata": {},
   "outputs": [
    {
     "data": {
      "text/plain": [
       "array([[  1],\n",
       "       [  4],\n",
       "       [  9],\n",
       "       [ 16],\n",
       "       [ 25],\n",
       "       [ 36],\n",
       "       [ 49],\n",
       "       [ 64],\n",
       "       [ 81],\n",
       "       [100]])"
      ]
     },
     "execution_count": 47,
     "metadata": {},
     "output_type": "execute_result"
    }
   ],
   "source": [
    "x2 = x**2\n",
    "x2"
   ]
  },
  {
   "cell_type": "code",
   "execution_count": 48,
   "metadata": {},
   "outputs": [
    {
     "data": {
      "text/plain": [
       "array([[  1,   1,   1],\n",
       "       [  1,   2,   4],\n",
       "       [  1,   3,   9],\n",
       "       [  1,   4,  16],\n",
       "       [  1,   5,  25],\n",
       "       [  1,   6,  36],\n",
       "       [  1,   7,  49],\n",
       "       [  1,   8,  64],\n",
       "       [  1,   9,  81],\n",
       "       [  1,  10, 100]])"
      ]
     },
     "execution_count": 48,
     "metadata": {},
     "output_type": "execute_result"
    }
   ],
   "source": [
    "y = np.array([[14], [12], [34], [24], [43], [38], [41], [57], [55], [50]])\n",
    "X = np.concatenate((a,x,x2), axis=1)\n",
    "X"
   ]
  },
  {
   "cell_type": "code",
   "execution_count": 49,
   "metadata": {},
   "outputs": [
    {
     "data": {
      "text/plain": [
       "array([[ 2.93333333],\n",
       "       [ 8.5969697 ],\n",
       "       [-0.34848485]])"
      ]
     },
     "execution_count": 49,
     "metadata": {},
     "output_type": "execute_result"
    }
   ],
   "source": [
    "XT = X.T\n",
    "XTX = np.dot(XT, X)\n",
    "XTX1 = np.linalg.inv(XTX)\n",
    "M1 = np.dot(XTX1, XT)\n",
    "M = np.dot(M1, y)\n",
    "M"
   ]
  },
  {
   "cell_type": "code",
   "execution_count": 50,
   "metadata": {},
   "outputs": [
    {
     "data": {
      "image/png": "[encoded data removed]",
      "text/plain": [
       "<matplotlib.figure.Figure at 0x19c6715b70>"
      ]
     },
     "metadata": {},
     "output_type": "display_data"
    }
   ],
   "source": [
    "xx = np.linspace(1,10,1000)\n",
    "XX = np.concatenate((np.ones((1000, 1,)), xx.reshape(1000, 1,), xx.reshape(1000,1)**2), axis=1)\n",
    "yy = XX.dot(M)\n",
    "plt.plot(x, y, 'o')\n",
    "plt.plot(xx, yy)\n",
    "plt.show()"
   ]
  },
  {
   "cell_type": "code",
   "execution_count": 51,
   "metadata": {},
   "outputs": [
    {
     "data": {
      "text/plain": [
       "(array([ 1,  2,  3,  4,  5,  6,  7,  8,  9, 10]),\n",
       " array([14, 12, 34, 24, 43, 38, 41, 57, 55, 50]))"
      ]
     },
     "execution_count": 51,
     "metadata": {},
     "output_type": "execute_result"
    }
   ],
   "source": [
    "# t3\n",
    "x = np.array([1, 2, 3,4, 5, 6, 7, 8, 9, 10])\n",
    "y = np.array([14, 12, 34,24, 43, 38, 41, 57, 55, 50])\n",
    "x,y"
   ]
  },
  {
   "cell_type": "code",
   "execution_count": 52,
   "metadata": {},
   "outputs": [
    {
     "data": {
      "text/plain": [
       "poly1d([ -4.35681217e-03,   2.24702381e-01,  -4.96870040e+00,\n",
       "         6.15263889e+01,  -4.67414410e+02,   2.24289931e+03,\n",
       "        -6.73621491e+03,   1.20653496e+04,  -1.14983976e+04,\n",
       "         4.35100000e+03])"
      ]
     },
     "execution_count": 52,
     "metadata": {},
     "output_type": "execute_result"
    }
   ],
   "source": [
    "coef = np.polyfit(x, y, 9)\n",
    "p = np.poly1d(coef)\n",
    "p"
   ]
  },
  {
   "cell_type": "code",
   "execution_count": 54,
   "metadata": {},
   "outputs": [
    {
     "data": {
      "image/png": "[encoded data removed]",
      "text/plain": [
       "<matplotlib.figure.Figure at 0x19c632c9b0>"
      ]
     },
     "metadata": {},
     "output_type": "display_data"
    }
   ],
   "source": [
    "xp = np.linspace(1, 10, 1000)\n",
    "plt.plot(x, y, 'o', xp, p(xp))\n",
    "\n",
    "plt.show()"
   ]
  },
  {
   "cell_type": "code",
   "execution_count": 55,
   "metadata": {},
   "outputs": [
    {
     "data": {
      "text/plain": [
       "array([[   1.,   14.,   25.],\n",
       "       [   1.,   28.,   25.],\n",
       "       [   1.,   41.,   25.],\n",
       "       [   1.,   55.,   25.],\n",
       "       [   1.,   69.,   25.],\n",
       "       [   1.,   83.,   25.],\n",
       "       [   1.,   97.,   25.],\n",
       "       [   1.,  111.,   25.],\n",
       "       [   1.,  125.,   25.],\n",
       "       [   1.,  139.,   25.],\n",
       "       [   1.,  153.,   25.],\n",
       "       [   1.,   14.,   27.],\n",
       "       [   1.,   28.,   27.],\n",
       "       [   1.,   41.,   27.],\n",
       "       [   1.,   55.,   27.],\n",
       "       [   1.,   69.,   27.],\n",
       "       [   1.,   83.,   27.],\n",
       "       [   1.,   97.,   27.],\n",
       "       [   1.,  111.,   27.],\n",
       "       [   1.,  125.,   27.],\n",
       "       [   1.,  139.,   27.],\n",
       "       [   1.,  153.,   27.],\n",
       "       [   1.,   14.,   29.],\n",
       "       [   1.,   28.,   29.],\n",
       "       [   1.,   41.,   29.],\n",
       "       [   1.,   55.,   29.],\n",
       "       [   1.,   69.,   29.],\n",
       "       [   1.,   83.,   29.],\n",
       "       [   1.,   97.,   29.],\n",
       "       [   1.,  111.,   29.],\n",
       "       [   1.,  125.,   29.],\n",
       "       [   1.,  139.,   29.],\n",
       "       [   1.,  153.,   29.],\n",
       "       [   1.,   14.,   31.],\n",
       "       [   1.,   28.,   31.],\n",
       "       [   1.,   41.,   31.],\n",
       "       [   1.,   55.,   31.],\n",
       "       [   1.,   69.,   31.],\n",
       "       [   1.,   83.,   31.],\n",
       "       [   1.,   97.,   31.],\n",
       "       [   1.,  111.,   31.],\n",
       "       [   1.,  125.,   31.],\n",
       "       [   1.,  139.,   31.],\n",
       "       [   1.,  153.,   31.]])"
      ]
     },
     "execution_count": 55,
     "metadata": {},
     "output_type": "execute_result"
    }
   ],
   "source": [
    "# python 3 t1\n",
    "data = np.loadtxt('C:\\\\fish.txt', skiprows=37)\n",
    "X = data[:, 1:3]\n",
    "y = data[:, 3:]\n",
    "X1 = np.concatenate((np.ones((44,1)), X), axis=1)\n",
    "X1"
   ]
  },
  {
   "cell_type": "code",
   "execution_count": 56,
   "metadata": {},
   "outputs": [
    {
     "data": {
      "text/plain": [
       "array([[ 27.27954198],\n",
       "       [ 29.07413117]])"
      ]
     },
     "execution_count": 56,
     "metadata": {},
     "output_type": "execute_result"
    }
   ],
   "source": [
    "M = np.linalg.inv(np.dot(X.T, X)).dot(X.T).dot(y)\n",
    "M"
   ]
  },
  {
   "cell_type": "code",
   "execution_count": 57,
   "metadata": {},
   "outputs": [
    {
     "data": {
      "text/plain": [
       "array([[  620.        ,  1108.76686697,   488.76686697],\n",
       "       [ 1315.        ,  1490.68045472,   175.68045472],\n",
       "       [ 2120.        ,  1845.31450049,  -274.68549951],\n",
       "       [ 2600.        ,  2227.22808825,  -372.77191175],\n",
       "       [ 3110.        ,  2609.141676  ,  -500.858324  ],\n",
       "       [ 3535.        ,  2991.05526375,  -543.94473625],\n",
       "       [ 3935.        ,  3372.9688515 ,  -562.0311485 ],\n",
       "       [ 4465.        ,  3754.88243925,  -710.11756075],\n",
       "       [ 4530.        ,  4136.796027  ,  -393.203973  ],\n",
       "       [ 4570.        ,  4518.70961476,   -51.29038524],\n",
       "       [ 4600.        ,  4900.62320251,   300.62320251],\n",
       "       [  625.        ,  1166.91512931,   541.91512931],\n",
       "       [ 1215.        ,  1548.82871706,   333.82871706],\n",
       "       [ 2110.        ,  1903.46276283,  -206.53723717],\n",
       "       [ 2805.        ,  2285.37635058,  -519.62364942],\n",
       "       [ 3255.        ,  2667.28993833,  -587.71006167],\n",
       "       [ 4015.        ,  3049.20352609,  -965.79647391],\n",
       "       [ 4315.        ,  3431.11711384,  -883.88288616],\n",
       "       [ 4495.        ,  3813.03070159,  -681.96929841],\n",
       "       [ 4535.        ,  4194.94428934,  -340.05571066],\n",
       "       [ 4600.        ,  4576.85787709,   -23.14212291],\n",
       "       [ 4600.        ,  4958.77146485,   358.77146485],\n",
       "       [  590.        ,  1225.06339165,   635.06339165],\n",
       "       [ 1305.        ,  1606.9769794 ,   301.9769794 ],\n",
       "       [ 2140.        ,  1961.61102517,  -178.38897483],\n",
       "       [ 2890.        ,  2343.52461292,  -546.47538708],\n",
       "       [ 3920.        ,  2725.43820067, -1194.56179933],\n",
       "       [ 3920.        ,  3107.35178842,  -812.64821158],\n",
       "       [ 4515.        ,  3489.26537618, -1025.73462382],\n",
       "       [ 4520.        ,  3871.17896393,  -648.82103607],\n",
       "       [ 4525.        ,  4253.09255168,  -271.90744832],\n",
       "       [ 4565.        ,  4635.00613943,    70.00613943],\n",
       "       [ 4566.        ,  5016.91972718,   450.91972718],\n",
       "       [  590.        ,  1283.21165399,   693.21165399],\n",
       "       [ 1205.        ,  1665.12524174,   460.12524174],\n",
       "       [ 1915.        ,  2019.75928751,   104.75928751],\n",
       "       [ 2140.        ,  2401.67287526,   261.67287526],\n",
       "       [ 2710.        ,  2783.58646301,    73.58646301],\n",
       "       [ 3020.        ,  3165.50005076,   145.50005076],\n",
       "       [ 3030.        ,  3547.41363851,   517.41363851],\n",
       "       [ 3040.        ,  3929.32722627,   889.32722627],\n",
       "       [ 3180.        ,  4311.24081402,  1131.24081402],\n",
       "       [ 3257.        ,  4693.15440177,  1436.15440177],\n",
       "       [ 3214.        ,  5075.06798952,  1861.06798952]])"
      ]
     },
     "execution_count": 57,
     "metadata": {},
     "output_type": "execute_result"
    }
   ],
   "source": [
    "y_estimate = X.dot(M)\n",
    "results = np.concatenate((y, y_estimate, y_estimate - y), axis=1)\n",
    "results"
   ]
  },
  {
   "cell_type": "code",
   "execution_count": 59,
   "metadata": {},
   "outputs": [
    {
     "data": {
      "text/plain": [
       "(44, 3)"
      ]
     },
     "execution_count": 59,
     "metadata": {},
     "output_type": "execute_result"
    }
   ],
   "source": [
    "results.shape\n"
   ]
  },
  {
   "cell_type": "code",
   "execution_count": 60,
   "metadata": {},
   "outputs": [
    {
     "name": "stdout",
     "output_type": "stream",
     "text": [
      "Linear regression mean absolute error: 534.722049449\n"
     ]
    }
   ],
   "source": [
    "print('Linear regression mean absolute error:', np.sum(np.abs(y_estimate - y))/44)"
   ]
  },
  {
   "cell_type": "code",
   "execution_count": null,
   "metadata": {
    "collapsed": true
   },
   "outputs": [],
   "source": []
  }
 ],
 "metadata": {
  "kernelspec": {
   "display_name": "Python 3",
   "language": "python",
   "name": "python3"
  },
  "language_info": {
   "codemirror_mode": {
    "name": "ipython",
    "version": 3
   },
   "file_extension": ".py",
   "mimetype": "text/x-python",
   "name": "python",
   "nbconvert_exporter": "python",
   "pygments_lexer": "ipython3",
   "version": "3.6.3"
  }
 },
 "nbformat": 4,
 "nbformat_minor": 2
}
