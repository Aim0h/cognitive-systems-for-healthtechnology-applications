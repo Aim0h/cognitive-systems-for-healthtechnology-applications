{
 "cells": [
  {
   "cell_type": "code",
   "execution_count": null,
   "metadata": {
    "collapsed": true
   },
   "outputs": [],
   "source": [
    "#Case 2\n",
    "#Jorma Männistö, Helsinki Metropolia University of Applied Sciences \n",
    "#Last edited: 25.02.2018\n",
    "#The objective of this assignment is apply and utilize keras-library in order to use convolutional neural networks to \n", 
    "#classify medical images for diabetic\n",
    "#retinopathy images. "
   ]
  },
  {
   "cell_type": "code",
   "execution_count": 9,
   "metadata": {},
   "outputs": [],
   "source": [
    "#importing libraries\n",
    "\n",
    "import numpy as np\n",
    "import matplotlib.pyplot as plt\n",
    "\n",
    "import pandas as pd\n",
    "import numpy as np\n",
    "import matplotlib.pyplot as plt\n",
    "import keras\n",
    "from keras import layers\n",
    "from keras import models\n",
    "\n",
    "%matplotlib inline"
   ]
  },
  {
   "cell_type": "code",
   "execution_count": 10,
   "metadata": {},
   "outputs": [
    {
     "name": "stdout",
     "output_type": "stream",
     "text": [
      "_________________________________________________________________\n",
      "Layer (type)                 Output Shape              Param #   \n",
      "=================================================================\n",
      "conv2d_5 (Conv2D)            (None, 148, 148, 32)      896       \n",
      "_________________________________________________________________\n",
      "max_pooling2d_5 (MaxPooling2 (None, 74, 74, 32)        0         \n",
      "_________________________________________________________________\n",
      "conv2d_6 (Conv2D)            (None, 72, 72, 64)        18496     \n",
      "_________________________________________________________________\n",
      "max_pooling2d_6 (MaxPooling2 (None, 36, 36, 64)        0         \n",
      "_________________________________________________________________\n",
      "conv2d_7 (Conv2D)            (None, 34, 34, 128)       73856     \n",
      "_________________________________________________________________\n",
      "max_pooling2d_7 (MaxPooling2 (None, 17, 17, 128)       0         \n",
      "_________________________________________________________________\n",
      "conv2d_8 (Conv2D)            (None, 15, 15, 128)       147584    \n",
      "_________________________________________________________________\n",
      "max_pooling2d_8 (MaxPooling2 (None, 7, 7, 128)         0         \n",
      "_________________________________________________________________\n",
      "flatten_2 (Flatten)          (None, 6272)              0         \n",
      "_________________________________________________________________\n",
      "dense_3 (Dense)              (None, 512)               3211776   \n",
      "_________________________________________________________________\n",
      "dense_4 (Dense)              (None, 1)                 513       \n",
      "=================================================================\n",
      "Total params: 3,453,121\n",
      "Trainable params: 3,453,121\n",
      "Non-trainable params: 0\n",
      "_________________________________________________________________\n"
     ]
    }
   ],
   "source": [
    "model = models.Sequential()\n",
    "model.add(layers.Conv2D(32, (3, 3), activation='relu',\n",
    "                        input_shape=(150, 150, 3)))\n",
    "model.add(layers.MaxPooling2D((2, 2)))\n",
    "model.add(layers.Conv2D(64, (3, 3), activation='relu'))\n",
    "model.add(layers.MaxPooling2D((2, 2)))\n",
    "model.add(layers.Conv2D(128, (3, 3), activation='relu'))\n",
    "model.add(layers.MaxPooling2D((2, 2)))\n",
    "model.add(layers.Conv2D(128, (3, 3), activation='relu'))\n",
    "model.add(layers.MaxPooling2D((2, 2)))\n",
    "model.add(layers.Flatten())\n",
    "model.add(layers.Dense(512, activation='relu'))\n",
    "model.add(layers.Dense(1, activation='sigmoid'))\n",
    "\n",
    "model.summary()"
   ]
  },
  {
   "cell_type": "code",
   "execution_count": 12,
   "metadata": {
    "collapsed": true
   },
   "outputs": [],
   "source": [
    "from keras import optimizers\n",
    "\n",
    "model.compile(loss='binary_crossentropy',\n",
    "              optimizer=optimizers.RMSprop(lr=1e-4),\n",
    "              metrics=['acc'])"
   ]
  },
  {
   "cell_type": "code",
   "execution_count": 13,
   "metadata": {},
   "outputs": [
    {
     "name": "stdout",
     "output_type": "stream",
     "text": [
      "Found 1927 images belonging to 2 classes.\n",
      "Found 1011 images belonging to 2 classes.\n"
     ]
    }
   ],
   "source": [
    "# Data preprocessing\n",
    "\n",
    "from keras.preprocessing.image import ImageDataGenerator\n",
    "\n",
    "train_dir = 'C:\\\\Users\\\\Salme\\\\Documents\\\\retinopathy\\\\dataset2\\\\train'\n",
    "validation_dir = 'C:\\\\Users\\\\Salme\\\\Documents\\\\retinopathy\\\\dataset2\\\\validation'\n",
    "\n",
    "# All images will be rescaled by 1./255\n",
    "train_datagen = ImageDataGenerator(rescale=1./255)\n",
    "test_datagen = ImageDataGenerator(rescale=1./255)\n",
    "\n",
    "train_generator = train_datagen.flow_from_directory(\n",
    "        # This is the target directory\n",
    "        train_dir,\n",
    "        # All images will be resized to 150x150\n",
    "        target_size=(150, 150),\n",
    "        batch_size=10,\n",
    "        # Since we use binary_crossentropy loss, we need binary labels\n",
    "        class_mode='binary')\n",
    "\n",
    "validation_generator = test_datagen.flow_from_directory(\n",
    "        validation_dir,\n",
    "        target_size=(150, 150),\n",
    "        batch_size=10,\n",
    "        class_mode='binary')"
   ]
  },
  {
   "cell_type": "code",
   "execution_count": 14,
   "metadata": {},
   "outputs": [
    {
     "name": "stdout",
     "output_type": "stream",
     "text": [
      "data batch shape: (10, 150, 150, 3)\n",
      "labels batch shape: (10,)\n"
     ]
    }
   ],
   "source": [
    "# Testing \n",
    "for data_batch, labels_batch in train_generator:\n",
    "    print('data batch shape:', data_batch.shape)\n",
    "    print('labels batch shape:', labels_batch.shape)\n",
    "    break"
   ]
  },
  {
   "cell_type": "code",
   "execution_count": 15,
   "metadata": {},
   "outputs": [
    {
     "data": {
      "text/plain": [
       "array([ 1.,  1.,  0.,  1.,  0.,  0.,  0.,  1.,  0.,  0.], dtype=float32)"
      ]
     },
     "execution_count": 15,
     "metadata": {},
     "output_type": "execute_result"
    }
   ],
   "source": [
    "labels_batch"
   ]
  },
  {
   "cell_type": "code",
   "execution_count": 16,
   "metadata": {
    "scrolled": true
   },
   "outputs": [
    {
     "name": "stdout",
     "output_type": "stream",
     "text": [
      "Epoch 1/30\n",
      "100/100 [==============================] - 238s 2s/step - loss: 0.5554 - acc: 0.7116 - val_loss: 0.5334 - val_acc: 0.7800\n",
      "Epoch 2/30\n",
      "100/100 [==============================] - 217s 2s/step - loss: 0.5201 - acc: 0.7410 - val_loss: 0.4718 - val_acc: 0.7800\n",
      "Epoch 3/30\n",
      "100/100 [==============================] - 215s 2s/step - loss: 0.5139 - acc: 0.7476 - val_loss: 0.4161 - val_acc: 0.7600\n",
      "Epoch 4/30\n",
      "100/100 [==============================] - 215s 2s/step - loss: 0.5205 - acc: 0.7480 - val_loss: 0.4345 - val_acc: 0.8200\n",
      "Epoch 5/30\n",
      "100/100 [==============================] - 216s 2s/step - loss: 0.4813 - acc: 0.7666 - val_loss: 0.3940 - val_acc: 0.8200\n",
      "Epoch 6/30\n",
      "100/100 [==============================] - 218s 2s/step - loss: 0.4983 - acc: 0.7460 - val_loss: 0.3567 - val_acc: 0.8400\n",
      "Epoch 7/30\n",
      "100/100 [==============================] - 215s 2s/step - loss: 0.4689 - acc: 0.7530 - val_loss: 0.3410 - val_acc: 0.8200\n",
      "Epoch 8/30\n",
      "100/100 [==============================] - 217s 2s/step - loss: 0.4842 - acc: 0.7500 - val_loss: 0.3650 - val_acc: 0.8600\n",
      "Epoch 9/30\n",
      "100/100 [==============================] - 215s 2s/step - loss: 0.4569 - acc: 0.7790 - val_loss: 0.3459 - val_acc: 0.8000\n",
      "Epoch 10/30\n",
      "100/100 [==============================] - 214s 2s/step - loss: 0.4680 - acc: 0.7611 - val_loss: 0.3840 - val_acc: 0.8800\n",
      "Epoch 11/30\n",
      "100/100 [==============================] - 214s 2s/step - loss: 0.4620 - acc: 0.7696 - val_loss: 0.3142 - val_acc: 0.8600\n",
      "Epoch 12/30\n",
      "100/100 [==============================] - 214s 2s/step - loss: 0.4532 - acc: 0.7771 - val_loss: 0.3050 - val_acc: 0.8600\n",
      "Epoch 13/30\n",
      "100/100 [==============================] - 218s 2s/step - loss: 0.4462 - acc: 0.7840 - val_loss: 0.3260 - val_acc: 0.9000\n",
      "Epoch 14/30\n",
      "100/100 [==============================] - 212s 2s/step - loss: 0.4511 - acc: 0.7840 - val_loss: 0.2737 - val_acc: 0.8400\n",
      "Epoch 15/30\n",
      "100/100 [==============================] - 215s 2s/step - loss: 0.4667 - acc: 0.7790 - val_loss: 0.3114 - val_acc: 0.8400\n",
      "Epoch 16/30\n",
      "100/100 [==============================] - 213s 2s/step - loss: 0.4378 - acc: 0.7860 - val_loss: 0.3253 - val_acc: 0.8800\n",
      "Epoch 17/30\n",
      "100/100 [==============================] - 217s 2s/step - loss: 0.4121 - acc: 0.8030 - val_loss: 0.3472 - val_acc: 0.8600\n",
      "Epoch 18/30\n",
      "100/100 [==============================] - 214s 2s/step - loss: 0.4598 - acc: 0.7836 - val_loss: 0.3030 - val_acc: 0.8800\n",
      "Epoch 19/30\n",
      "100/100 [==============================] - 215s 2s/step - loss: 0.4271 - acc: 0.7930 - val_loss: 0.3016 - val_acc: 0.9000\n",
      "Epoch 20/30\n",
      "100/100 [==============================] - 214s 2s/step - loss: 0.4099 - acc: 0.7956 - val_loss: 0.2738 - val_acc: 0.8800\n",
      "Epoch 21/30\n",
      "100/100 [==============================] - 219s 2s/step - loss: 0.4351 - acc: 0.7850 - val_loss: 0.3402 - val_acc: 0.8800\n",
      "Epoch 22/30\n",
      "100/100 [==============================] - 215s 2s/step - loss: 0.4238 - acc: 0.7856 - val_loss: 0.3445 - val_acc: 0.9000\n",
      "Epoch 23/30\n",
      "100/100 [==============================] - 218s 2s/step - loss: 0.4194 - acc: 0.7900 - val_loss: 0.2564 - val_acc: 0.8600\n",
      "Epoch 24/30\n",
      "100/100 [==============================] - 220s 2s/step - loss: 0.4061 - acc: 0.7900 - val_loss: 0.2766 - val_acc: 0.8800\n",
      "Epoch 25/30\n",
      "100/100 [==============================] - 211s 2s/step - loss: 0.4304 - acc: 0.7960 - val_loss: 0.3045 - val_acc: 0.9400\n",
      "Epoch 26/30\n",
      "100/100 [==============================] - 217s 2s/step - loss: 0.4079 - acc: 0.8186 - val_loss: 0.2794 - val_acc: 0.9000\n",
      "Epoch 27/30\n",
      "100/100 [==============================] - 215s 2s/step - loss: 0.4086 - acc: 0.8100 - val_loss: 0.2487 - val_acc: 0.9000\n",
      "Epoch 28/30\n",
      "100/100 [==============================] - 215s 2s/step - loss: 0.4094 - acc: 0.7980 - val_loss: 0.2495 - val_acc: 0.9200\n",
      "Epoch 29/30\n",
      "100/100 [==============================] - 217s 2s/step - loss: 0.3918 - acc: 0.8176 - val_loss: 0.2804 - val_acc: 0.8400\n",
      "Epoch 30/30\n",
      "100/100 [==============================] - 218s 2s/step - loss: 0.3852 - acc: 0.8120 - val_loss: 0.3010 - val_acc: 0.8600\n"
     ]
    }
   ],
   "source": [
    "# Modeling\n",
    "history = model.fit_generator(\n",
    "      train_generator,\n",
    "      steps_per_epoch = 100, #(amount of images divided by batch size, which should be ~200, but in this case we'll reduce the value to 100 in order to conserve time)\n",
    "      verbose = 1,\n",
    "      epochs = 30,\n",
    "      validation_data = validation_generator,\n",
    "      validation_steps = 5)"
   ]
  },
  {
   "cell_type": "code",
   "execution_count": 17,
   "metadata": {},
   "outputs": [
    {
     "data": {
      "image/png": "[encoded data removed]",
      "text/plain": [
       "<matplotlib.figure.Figure at 0x132b56d8>"
      ]
     },
     "metadata": {},
     "output_type": "display_data"
    },
    {
     "data": {
      "image/png": "[encoded data removed]",
      "text/plain": [
       "<matplotlib.figure.Figure at 0x13f139b0>"
      ]
     },
     "metadata": {},
     "output_type": "display_data"
    }
   ],
   "source": [
    "# Results\n",
    "acc = history.history['acc']\n",
    "val_acc = history.history['val_acc']\n",
    "loss = history.history['loss']\n",
    "val_loss = history.history['val_loss']\n",
    "\n",
    "epochs = range(len(acc))\n",
    "\n",
    "plt.plot(epochs, acc, 'bo', label='Training acc')\n",
    "plt.plot(epochs, val_acc, 'b', label='Validation acc')\n",
    "plt.title('Training and validation accuracy')\n",
    "plt.legend()\n",
    "\n",
    "plt.figure()\n",
    "\n",
    "plt.plot(epochs, loss, 'bo', label='Training loss')\n",
    "plt.plot(epochs, val_loss, 'b', label='Validation loss')\n",
    "plt.title('Training and validation loss')\n",
    "plt.legend()\n",
    "\n",
    "plt.show()"
   ]
  },
  {
   "cell_type": "code",
   "execution_count": null,
   "metadata": {
    "collapsed": true
   },
   "outputs": [],
   "source": [
    "# Conlusion\n",
    "# With such settings training accuracy reaches and varies between approximately 80-90%, \n",
    "# with validation loss being well below 40%. Such results prove to be fairly accurate, in which case training the neural network to\n",
    "# recognize images with diabetic retinopathy proves to fairly succesful.\n",
    "\n"
   ]
  }
 ],
 "metadata": {
  "kernelspec": {
   "display_name": "Python 3",
   "language": "python",
   "name": "python3"
  },
  "language_info": {
   "codemirror_mode": {
    "name": "ipython",
    "version": 3
   },
   "file_extension": ".py",
   "mimetype": "text/x-python",
   "name": "python",
   "nbconvert_exporter": "python",
   "pygments_lexer": "ipython3",
   "version": "3.6.3"
  }
 },
 "nbformat": 4,
 "nbformat_minor": 2
}
