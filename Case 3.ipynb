{
 "cells": [
  {
   "cell_type": "markdown",
   "metadata": {},
   "source": [
    "Case 3\n",
    "Jorma Männistö, Helsinki Metropolia University of Applied Sciences \n",
    "Last edited: 11.03.2018\n",
    "The objective of this assignment is to build a recurrent neural network to categorize medical texts' abstracts in order to determine the wellbeing of the individual based on the words used in the abstracts."
   ]
  },
  {
   "cell_type": "code",
   "execution_count": 3,
   "metadata": {},
   "outputs": [
    {
     "data": {
      "text/plain": [
       "('ohsumed-first-20000-docs.tar.gz', <http.client.HTTPMessage at 0xb8c8259240>)"
      ]
     },
     "execution_count": 3,
     "metadata": {},
     "output_type": "execute_result"
    }
   ],
   "source": [
    "# Download a local copy of the tar-file\n",
    "from urllib.request import urlretrieve\n",
    "url = \"http://disi.unitn.it/moschitti/corpora/ohsumed-first-20000-docs.tar.gz\"\n",
    "dst = 'ohsumed-first-20000-docs.tar.gz'\n",
    "urlretrieve(url, dst)"
   ]
  },
  {
   "cell_type": "code",
   "execution_count": 4,
   "metadata": {
    "collapsed": true
   },
   "outputs": [],
   "source": [
    "# Extract the .tar-file and create the folder\n",
    "import tarfile\n",
    "tar = tarfile.open(\"ohsumed-first-20000-docs.tar.gz\")\n",
    "tar.extractall()\n",
    "tar.close()"
   ]
  },
  {
   "cell_type": "code",
   "execution_count": 72,
   "metadata": {},
   "outputs": [
    {
     "name": "stdout",
     "output_type": "stream",
     "text": [
      "Time elapsed 3 seconds.\n"
     ]
    }
   ],
   "source": [
    "import os\n",
    "import time\n",
    "ohsumed_dir = 'ohsumed-first-20000-docs'\n",
    "train_dir = os.path.join(ohsumed_dir, 'training')\n",
    "\n",
    "labels = []\n",
    "texts = []\n",
    "\n",
    "t1 = time.time()\n",
    "\n",
    "# Generate a list L = ['C01', 'C02, ..., 'C023']\n",
    "L = ['C{:02}'.format(n) for n in range(1, 23 + 1)]\n",
    "for label_type in L:\n",
    "    dir_name = os.path.join(train_dir, label_type)\n",
    "    for fname in os.listdir(dir_name):\n",
    "        f = open(os.path.join(dir_name, fname))\n",
    "        texts.append(f.read())\n",
    "        f.close()\n",
    "        i = L.index(label_type)\n",
    "        labels.append(i)\n",
    "t2 = time.time()\n",
    "print('Time elapsed {:.0f} seconds.'.format((t2-t1)))"
   ]
  },
  {
   "cell_type": "code",
   "execution_count": 73,
   "metadata": {},
   "outputs": [
    {
     "name": "stdout",
     "output_type": "stream",
     "text": [
      "Found 30857 unique tokens\n"
     ]
    }
   ],
   "source": [
    "# Tokenizing text from raw data\n",
    "\n",
    "from keras.preprocessing.text import Tokenizer\n",
    "from keras.preprocessing.sequence import pad_sequences\n",
    "import numpy as np\n",
    "\n",
    "maxlen = 300 # common length of the samples\n",
    "max_words = 20000 # number of words which are used the most\n",
    "\n",
    "tokenizer = Tokenizer(num_words = max_words)\n",
    "tokenizer.fit_on_texts(texts)\n",
    "sequences = tokenizer.texts_to_sequences(texts)\n",
    "\n",
    "word_index = tokenizer.word_index\n",
    "print('Found %s unique tokens' % len(word_index))"
   ]
  },
  {
   "cell_type": "code",
   "execution_count": 65,
   "metadata": {},
   "outputs": [
    {
     "name": "stdout",
     "output_type": "stream",
     "text": [
      "Shape of data tensor: (10433, 300)\n",
      "Shape of labels tensor: (10433, 23)\n"
     ]
    }
   ],
   "source": [
    "# Shaping and shuffling the data and the labels\n",
    "\n",
    "from keras.utils.np_utils import to_categorical\n",
    "\n",
    "data = pad_sequences(sequences, maxlen = maxlen)\n",
    "\n",
    "labels = np.asarray(labels)\n",
    "one_hot_labels = to_categorical(labels)\n",
    "\n",
    "\n",
    "print('Shape of data tensor:', data.shape)\n",
    "print('Shape of labels tensor:', one_hot_labels.shape)\n",
    "\n",
    "indices = np.arange(data.shape[0])\n",
    "np.random.shuffle(indices)\n",
    "data = data[indices]\n",
    "labels = labels[indices]\n",
    "one_hot_labels = one_hot_labels[indices]"
   ]
  },
  {
   "cell_type": "code",
   "execution_count": 74,
   "metadata": {},
   "outputs": [
    {
     "name": "stdout",
     "output_type": "stream",
     "text": [
      "_________________________________________________________________\n",
      "Layer (type)                 Output Shape              Param #   \n",
      "=================================================================\n",
      "embedding_11 (Embedding)     (None, 300, 32)           640000    \n",
      "_________________________________________________________________\n",
      "simple_rnn_11 (SimpleRNN)    (None, 8)                 328       \n",
      "_________________________________________________________________\n",
      "dense_31 (Dense)             (None, 1024)              9216      \n",
      "_________________________________________________________________\n",
      "dense_32 (Dense)             (None, 256)               262400    \n",
      "_________________________________________________________________\n",
      "dense_33 (Dense)             (None, 23)                5911      \n",
      "=================================================================\n",
      "Total params: 917,855\n",
      "Trainable params: 917,855\n",
      "Non-trainable params: 0\n",
      "_________________________________________________________________\n"
     ]
    }
   ],
   "source": [
    "# Building the model\n",
    "\n",
    "from keras.models import Sequential\n",
    "from keras.layers import Flatten, Dense, Embedding, SimpleRNN, Dropout\n",
    "\n",
    "model = Sequential()\n",
    "model.add(Embedding(max_words, 32, input_length=maxlen))\n",
    "model.add(SimpleRNN(8))\n",
    "# model.add(LSTM(100)) another method by Kopu\n",
    "model.add(Dense(1024, activation = 'relu'))\n",
    "#model.add(Dropout(0.3))\n",
    "model.add(Dense(256, activation = 'relu'))\n",
    "#model.add(Dropout(0.3))\n",
    "model.add(Dense(len(L), activation = 'softmax'))\n",
    "\n",
    "model.compile(optimizer = 'rmsprop',\n",
    "             loss = 'categorical_crossentropy',\n",
    "             metrics = ['accuracy'])\n",
    "\n",
    "model.summary()"
   ]
  },
  {
   "cell_type": "code",
   "execution_count": 75,
   "metadata": {},
   "outputs": [
    {
     "name": "stdout",
     "output_type": "stream",
     "text": [
      "Train on 8346 samples, validate on 2087 samples\n",
      "Epoch 1/20\n",
      "8346/8346 [==============================] - 35s 4ms/step - loss: 2.7943 - acc: 0.1707 - val_loss: 2.7074 - val_acc: 0.1739\n",
      "Epoch 2/20\n",
      "8346/8346 [==============================] - 32s 4ms/step - loss: 2.6063 - acc: 0.2097 - val_loss: 2.6831 - val_acc: 0.1917\n",
      "Epoch 3/20\n",
      "8346/8346 [==============================] - 32s 4ms/step - loss: 2.3463 - acc: 0.2779 - val_loss: 2.8412 - val_acc: 0.1624\n",
      "Epoch 4/20\n",
      "8346/8346 [==============================] - 32s 4ms/step - loss: 2.1019 - acc: 0.3456 - val_loss: 3.0194 - val_acc: 0.1327\n",
      "Epoch 5/20\n",
      "8346/8346 [==============================] - 31s 4ms/step - loss: 1.9075 - acc: 0.3942 - val_loss: 3.1998 - val_acc: 0.1203\n",
      "Epoch 6/20\n",
      "8346/8346 [==============================] - 30s 4ms/step - loss: 1.7555 - acc: 0.4412 - val_loss: 3.3455 - val_acc: 0.1021\n",
      "Epoch 7/20\n",
      "8346/8346 [==============================] - 30s 4ms/step - loss: 1.6190 - acc: 0.4705 - val_loss: 3.6511 - val_acc: 0.0954\n",
      "Epoch 8/20\n",
      "8346/8346 [==============================] - 31s 4ms/step - loss: 1.5168 - acc: 0.4947 - val_loss: 3.8694 - val_acc: 0.0982\n",
      "Epoch 9/20\n",
      "8346/8346 [==============================] - 32s 4ms/step - loss: 1.4335 - acc: 0.5109 - val_loss: 4.0277 - val_acc: 0.0666\n",
      "Epoch 10/20\n",
      "8346/8346 [==============================] - 32s 4ms/step - loss: 1.3637 - acc: 0.5244 - val_loss: 4.3237 - val_acc: 0.0939\n",
      "Epoch 11/20\n",
      "8346/8346 [==============================] - 32s 4ms/step - loss: 1.2990 - acc: 0.5316 - val_loss: 4.3416 - val_acc: 0.0743\n",
      "Epoch 12/20\n",
      "8346/8346 [==============================] - 33s 4ms/step - loss: 1.2469 - acc: 0.5445 - val_loss: 4.5665 - val_acc: 0.0685\n",
      "Epoch 13/20\n",
      "8346/8346 [==============================] - 33s 4ms/step - loss: 1.2008 - acc: 0.5500 - val_loss: 4.6918 - val_acc: 0.0704\n",
      "Epoch 14/20\n",
      "8346/8346 [==============================] - 31s 4ms/step - loss: 1.1543 - acc: 0.5496 - val_loss: 5.0845 - val_acc: 0.0738\n",
      "Epoch 15/20\n",
      "8346/8346 [==============================] - 29s 4ms/step - loss: 1.1339 - acc: 0.5558 - val_loss: 4.9564 - val_acc: 0.0585\n",
      "Epoch 16/20\n",
      "8346/8346 [==============================] - 31s 4ms/step - loss: 1.0946 - acc: 0.5585 - val_loss: 5.2778 - val_acc: 0.0618\n",
      "Epoch 17/20\n",
      "8346/8346 [==============================] - 31s 4ms/step - loss: 1.0659 - acc: 0.5622 - val_loss: 4.9935 - val_acc: 0.0589\n",
      "Epoch 18/20\n",
      "8346/8346 [==============================] - 31s 4ms/step - loss: 1.0515 - acc: 0.5679 - val_loss: 5.5194 - val_acc: 0.0580\n",
      "Epoch 19/20\n",
      "8346/8346 [==============================] - 32s 4ms/step - loss: 1.0252 - acc: 0.5654 - val_loss: 5.6894 - val_acc: 0.0671\n",
      "Epoch 20/20\n",
      "8346/8346 [==============================] - 31s 4ms/step - loss: 1.0065 - acc: 0.5688 - val_loss: 5.6368 - val_acc: 0.0508\n",
      "Elapsed time: 632.66 seconds\n"
     ]
    }
   ],
   "source": [
    "# Training the model\n",
    "\n",
    "import time\n",
    "\n",
    "t1 = time.time()\n",
    "history = model.fit(data, one_hot_labels,\n",
    "                   epochs = 20,\n",
    "                   batch_size = 32,\n",
    "                   validation_split = 0.2)\n",
    "t2 = time.time()\n",
    "print('Elapsed time: {:.2f} seconds'.format((t2-t1)))"
   ]
  },
  {
   "cell_type": "code",
   "execution_count": 76,
   "metadata": {},
   "outputs": [
    {
     "data": {
      "image/png": "[encoded data removed]",
      "text/plain": [
       "<matplotlib.figure.Figure at 0xb8dd4642e8>"
      ]
     },
     "metadata": {},
     "output_type": "display_data"
    },
    {
     "data": {
      "image/png": "[encoded data removed]",
      "text/plain": [
       "<matplotlib.figure.Figure at 0xb8dd4989b0>"
      ]
     },
     "metadata": {},
     "output_type": "display_data"
    }
   ],
   "source": [
    "# Training results\n",
    "\n",
    "import matplotlib.pyplot as plt\n",
    "\n",
    "acc = history.history['acc']\n",
    "val_acc = history.history['val_acc']\n",
    "loss = history.history['loss']\n",
    "val_loss = history.history['val_loss']\n",
    "\n",
    "epochs = range(1, len(acc) + 1)\n",
    "\n",
    "plt.figure(figsize=(15, 3))\n",
    "plt.plot(epochs, acc, 'bo', label='Training acc')\n",
    "plt.plot(epochs, val_acc, 'b', label='Validation acc')\n",
    "plt.title('Training and validation accuracy')\n",
    "plt.xlabel('Epoch')\n",
    "plt.legend()\n",
    "\n",
    "\n",
    "plt.figure(figsize=(15, 3))\n",
    "plt.plot(epochs, loss, 'bo', label='Training loss')\n",
    "plt.plot(epochs, val_loss, 'b', label='Validation loss')\n",
    "plt.title('Training and validation loss')\n",
    "plt.xlabel('Epoch')\n",
    "plt.legend()\n",
    "\n",
    "plt.show()"
   ]
  },
  {
   "cell_type": "markdown",
   "metadata": {},
   "source": [
    "Metrics results"
   ]
  },
  {
   "cell_type": "code",
   "execution_count": 77,
   "metadata": {
    "collapsed": true
   },
   "outputs": [],
   "source": [
    "# Calculate the predictions\n",
    "predictions = model.predict(data)\n",
    "y_pred = np.argmax(predictions, axis = 1)"
   ]
  },
  {
   "cell_type": "code",
   "execution_count": 78,
   "metadata": {
    "scrolled": true
   },
   "outputs": [
    {
     "name": "stdout",
     "output_type": "stream",
     "text": [
      "             precision    recall  f1-score   support\n",
      "\n",
      "          0       0.05      0.07      0.06       423\n",
      "          1       0.01      0.01      0.01       158\n",
      "          2       0.00      0.00      0.00        65\n",
      "          3       0.11      0.09      0.10      1163\n",
      "          4       0.02      0.02      0.02       283\n",
      "          5       0.05      0.07      0.06       588\n",
      "          6       0.00      0.00      0.00       100\n",
      "          7       0.05      0.06      0.06       473\n",
      "          8       0.00      0.00      0.00       125\n",
      "          9       0.06      0.05      0.05       621\n",
      "         10       0.04      0.04      0.04       162\n",
      "         11       0.06      0.07      0.06       491\n",
      "         12       0.03      0.04      0.04       281\n",
      "         13       0.12      0.11      0.11      1249\n",
      "         14       0.01      0.01      0.01       215\n",
      "         15       0.03      0.05      0.04       200\n",
      "         16       0.02      0.01      0.02       295\n",
      "         17       0.02      0.03      0.03       388\n",
      "         18       0.02      0.02      0.02       191\n",
      "         19       0.06      0.07      0.06       525\n",
      "         20       0.06      0.06      0.06       546\n",
      "         21       0.03      0.01      0.02        92\n",
      "         22       0.17      0.13      0.14      1799\n",
      "\n",
      "avg / total       0.08      0.07      0.08     10433\n",
      "\n"
     ]
    }
   ],
   "source": [
    "from sklearn.metrics import accuracy_score, precision_score, f1_score, confusion_matrix\n",
    "from sklearn.metrics import classification_report, recall_score\n",
    "# Classification results per class\n",
    "print(classification_report(labels, y_pred))"
   ]
  },
  {
   "cell_type": "code",
   "execution_count": 70,
   "metadata": {},
   "outputs": [
    {
     "name": "stdout",
     "output_type": "stream",
     "text": [
      "[[226  11   4   8   6  11   1  15   0   5   6   8   3  16   8   0   1   5   0  37  14   3  35]\n",
      " [  8  62   3  11   2   0   1   4   1   3   0   0   4   4   2   0   2   1   0  41   0   1   8]\n",
      " [  2   0  35   0   0   2   0   1   0   2   3   1   0   3   1   1   0   1   0   9   0   2   2]\n",
      " [  5   4   3 684   9  37  12  43   7  28   9  66  29  28  16   9  11  18  36  31   7   0  71]\n",
      " [  7   1   5   5 147   6   2   3   0   5   1   1   0   6   8   4  17   3   3   5  22   1  31]\n",
      " [ 30   6   0  52   3 328   0  14   0  12   0   8   7   8   9   3   1   9   3  13  11   2  69]\n",
      " [  3   2   0  14   3   0  50   1   2   0   0   1   0   1   1   0   4   1   0   5   2   0  10]\n",
      " [ 21   3   4  39   3   8   2 235  10   8   1   7   4  18  15   4   0   1   1  41  15   4  29]\n",
      " [  3   2   0  17   4   0   0  11  58   1   2   1   1   0   3   1   1   0   1   6   1   0  12]\n",
      " [ 18   4   5  26  10  14   0   7   1 354  10   8   4  19   6   1   2   3   7  23  17   5  77]\n",
      " [  4   3   5   8   2   1   0   0   0   7  85   0   0   5   0   1   2   1   5  13   4   0  16]\n",
      " [  9   1   0  45   6   6   0   1   0   4   0 285   8  21  15   4   6   6   9  15  13   0  37]\n",
      " [ 13   4   1  16   2  10   0   3   0   3   0   9 145  12   6   3   3   2   2  16   1   0  30]\n",
      " [ 14   1   3  13   1  21   1  19   1  46   3  26   9 808   5  10   4  17  13  14  23  13 184]\n",
      " [  6   1   2  13   3   5   2  10   0   4   0   6   3   9  98   0   6   0   2  15   2   2  26]\n",
      " [  4   0   0   5   4   4   0   6   2   5   2   1   4  28   2  88   2   3   1   1   0   0  38]\n",
      " [ 11   3   4  12  10   5   1   1   1   6   7   3   6   9   7   2 136   4   5  24   7   4  27]\n",
      " [  2   0   1   9   8   3   4   1   0   6   3  13   2  35   2   0   2 224  25   3   4   3  38]\n",
      " [  0   2   0  11   3   1   0   0   0   7   1   7   2  23   0   0   2  16  99   8   0   1   8]\n",
      " [  7  17   2  25   6   6   2  12   0   7   1   3   6   8   7   0   7   3   3 382   2   0  19]\n",
      " [ 18   0   3   7  12  18   2  12   1  20   8   6   0  12   2   0   2   2   2  18 350   6  45]\n",
      " [  4   2   0   0   4   5   0   4   0   0   0   1   0  13   0   0   3   3   0   2   4  40   7]\n",
      " [ 54  12   5 112  36 123   4  53  14  81  15  59  18 133  21  18  13  19  10  43  45  10 901]]\n"
     ]
    }
   ],
   "source": [
    "# Confusion matrix\n",
    "cm = confusion_matrix(labels, y_pred)\n",
    "print(np.array2string(cm, max_line_width = 120))"
   ]
  },
  {
   "cell_type": "code",
   "execution_count": 79,
   "metadata": {},
   "outputs": [
    {
     "name": "stdout",
     "output_type": "stream",
     "text": [
      "True class:  1\n",
      "Predicted class: 12\n",
      "Predictions per class:\n",
      "[  7.33e-03   6.15e-04   2.98e-05   1.29e-01   2.00e-02   1.08e-01\n",
      "   6.21e-02   7.81e-03   3.29e-02   1.81e-02   4.56e-04   5.94e-02\n",
      "   1.70e-01   1.19e-02   1.02e-01   1.59e-01   7.06e-03   1.23e-03\n",
      "   1.63e-02   3.30e-03   4.06e-04   1.43e-04   8.23e-02]\n"
     ]
    },
    {
     "data": {
      "image/png": "[encoded data removed]",
      "text/plain": [
       "<matplotlib.figure.Figure at 0xb8df1a00f0>"
      ]
     },
     "metadata": {},
     "output_type": "display_data"
    }
   ],
   "source": [
    "print('True class: ', labels[512])\n",
    "print('Predicted class:', y_pred[512])\n",
    "print('Predictions per class:')\n",
    "print(np.array2string(predictions[512], precision = 2))\n",
    "\n",
    "plt.stem(predictions[512])\n",
    "plt.show()"
   ]
  },
  {
   "cell_type": "markdown",
   "metadata": {},
   "source": [
    "Conclusions\n",
    "\n",
    "As can be seen above from the, the results are fairly abysmal with training accuracy approaching ~55 % and validation accuracy declining steadily from ~20 % whilst validation loss keeps going higher. As such, no conclusive results to the patients' wellbeing should be based on this model. In order to improve the results dropout -layers were implemented to the model. This however didn't noticeably (if at all) improve the results."
   ]
  }
 ],
 "metadata": {
  "kernelspec": {
   "display_name": "Python 3",
   "language": "python",
   "name": "python3"
  },
  "language_info": {
   "codemirror_mode": {
    "name": "ipython",
    "version": 3
   },
   "file_extension": ".py",
   "mimetype": "text/x-python",
   "name": "python",
   "nbconvert_exporter": "python",
   "pygments_lexer": "ipython3",
   "version": "3.6.3"
  }
 },
 "nbformat": 4,
 "nbformat_minor": 2
}
